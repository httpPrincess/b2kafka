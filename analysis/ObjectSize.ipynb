{
 "cells": [
  {
   "cell_type": "code",
   "execution_count": 1,
   "metadata": {},
   "outputs": [],
   "source": [
    "import pandas as pd\n",
    "%matplotlib inline"
   ]
  },
  {
   "cell_type": "code",
   "execution_count": 2,
   "metadata": {},
   "outputs": [],
   "source": [
    "df = pd.read_csv('./flist.csv')\n",
    "df.rename(columns={'#key':'Name', 'created':'Created', 'size':'Size', 'mimetype':'Mimetype'}, inplace=True)\n",
    "df.set_index('Name', inplace=True)\n",
    "df.Created = pd.to_datetime(df.Created)"
   ]
  },
  {
   "cell_type": "code",
   "execution_count": 83,
   "metadata": {},
   "outputs": [
    {
     "data": {
      "text/html": [
       "<div>\n",
       "<style>\n",
       "    .dataframe thead tr:only-child th {\n",
       "        text-align: right;\n",
       "    }\n",
       "\n",
       "    .dataframe thead th {\n",
       "        text-align: left;\n",
       "    }\n",
       "\n",
       "    .dataframe tbody tr th {\n",
       "        vertical-align: top;\n",
       "    }\n",
       "</style>\n",
       "<table border=\"1\" class=\"dataframe\">\n",
       "  <thead>\n",
       "    <tr style=\"text-align: right;\">\n",
       "      <th></th>\n",
       "      <th>Created</th>\n",
       "      <th>Size</th>\n",
       "      <th>Mimetype</th>\n",
       "      <th>Cat</th>\n",
       "    </tr>\n",
       "    <tr>\n",
       "      <th>Name</th>\n",
       "      <th></th>\n",
       "      <th></th>\n",
       "      <th></th>\n",
       "      <th></th>\n",
       "    </tr>\n",
       "  </thead>\n",
       "  <tbody>\n",
       "    <tr>\n",
       "      <th>SentiLex-PT02.zip</th>\n",
       "      <td>2017-10-22 16:50:22.413666</td>\n",
       "      <td>604242</td>\n",
       "      <td>application/zip</td>\n",
       "      <td>small</td>\n",
       "    </tr>\n",
       "    <tr>\n",
       "      <th>100LOS_cluster_random.zip</th>\n",
       "      <td>2017-10-13 14:02:02.354453</td>\n",
       "      <td>1329092</td>\n",
       "      <td>application/zip</td>\n",
       "      <td>moderate</td>\n",
       "    </tr>\n",
       "    <tr>\n",
       "      <th>50LOS_cluster_central.zip</th>\n",
       "      <td>2017-10-13 14:02:02.366603</td>\n",
       "      <td>1258126</td>\n",
       "      <td>application/zip</td>\n",
       "      <td>moderate</td>\n",
       "    </tr>\n",
       "    <tr>\n",
       "      <th>100LOS_cluster_random.zip</th>\n",
       "      <td>2017-10-13 13:29:03.207752</td>\n",
       "      <td>1447995</td>\n",
       "      <td>application/zip</td>\n",
       "      <td>moderate</td>\n",
       "    </tr>\n",
       "    <tr>\n",
       "      <th>50LOS_cluster_central.zip</th>\n",
       "      <td>2017-10-13 13:29:03.221556</td>\n",
       "      <td>1285703</td>\n",
       "      <td>application/zip</td>\n",
       "      <td>moderate</td>\n",
       "    </tr>\n",
       "  </tbody>\n",
       "</table>\n",
       "</div>"
      ],
      "text/plain": [
       "                                             Created     Size  \\\n",
       "Name                                                            \n",
       "SentiLex-PT02.zip         2017-10-22 16:50:22.413666   604242   \n",
       "100LOS_cluster_random.zip 2017-10-13 14:02:02.354453  1329092   \n",
       "50LOS_cluster_central.zip 2017-10-13 14:02:02.366603  1258126   \n",
       "100LOS_cluster_random.zip 2017-10-13 13:29:03.207752  1447995   \n",
       "50LOS_cluster_central.zip 2017-10-13 13:29:03.221556  1285703   \n",
       "\n",
       "                                  Mimetype       Cat  \n",
       "Name                                                  \n",
       "SentiLex-PT02.zip          application/zip     small  \n",
       "100LOS_cluster_random.zip  application/zip  moderate  \n",
       "50LOS_cluster_central.zip  application/zip  moderate  \n",
       "100LOS_cluster_random.zip  application/zip  moderate  \n",
       "50LOS_cluster_central.zip  application/zip  moderate  "
      ]
     },
     "execution_count": 83,
     "metadata": {},
     "output_type": "execute_result"
    }
   ],
   "source": [
    "df.head()"
   ]
  },
  {
   "cell_type": "code",
   "execution_count": 4,
   "metadata": {},
   "outputs": [
    {
     "name": "stdout",
     "output_type": "stream",
     "text": [
      "<class 'pandas.core.frame.DataFrame'>\n",
      "Index: 2938 entries, SentiLex-PT02.zip to c33a933c-8202-11e3-92a1-005056943408.zip\n",
      "Data columns (total 3 columns):\n",
      "Created     2938 non-null datetime64[ns]\n",
      "Size        2938 non-null int64\n",
      "Mimetype    2938 non-null object\n",
      "dtypes: datetime64[ns](1), int64(1), object(1)\n",
      "memory usage: 91.8+ KB\n"
     ]
    }
   ],
   "source": [
    "df.info()"
   ]
  },
  {
   "cell_type": "code",
   "execution_count": 5,
   "metadata": {},
   "outputs": [
    {
     "data": {
      "text/plain": [
       "40.575949291698635"
      ]
     },
     "execution_count": 5,
     "metadata": {},
     "output_type": "execute_result"
    }
   ],
   "source": [
    "# total size in GBs\n",
    "df['Size'].sum()/(1024*1024*1024)"
   ]
  },
  {
   "cell_type": "code",
   "execution_count": 7,
   "metadata": {},
   "outputs": [
    {
     "data": {
      "text/plain": [
       "count    2.938000e+03\n",
       "mean     1.482917e+07\n",
       "std      7.700631e+07\n",
       "min      4.000000e+00\n",
       "25%      1.100800e+04\n",
       "50%      1.048576e+06\n",
       "75%      1.421706e+06\n",
       "max      1.570976e+09\n",
       "Name: Size, dtype: float64"
      ]
     },
     "execution_count": 7,
     "metadata": {},
     "output_type": "execute_result"
    }
   ],
   "source": [
    "df.Size.describe()"
   ]
  },
  {
   "cell_type": "markdown",
   "metadata": {},
   "source": [
    "## Size analysis\n",
    "Kafka is not the best solution for storing really large files. What should be the size limit"
   ]
  },
  {
   "cell_type": "code",
   "execution_count": 8,
   "metadata": {},
   "outputs": [],
   "source": [
    "df['Cat'] = pd.cut(df.Size, bins=[0, 1024, 1024*1024, 40*1024*1024, 1.6e+09], \n",
    "              labels=['zeros', 'small', 'moderate', 'oversized'])"
   ]
  },
  {
   "cell_type": "code",
   "execution_count": 9,
   "metadata": {},
   "outputs": [
    {
     "data": {
      "text/plain": [
       "<matplotlib.axes._subplots.AxesSubplot at 0x1174bc518>"
      ]
     },
     "execution_count": 9,
     "metadata": {},
     "output_type": "execute_result"
    },
    {
     "data": {
      "image/png": "[encoded data removed]",
      "text/plain": [
       "<matplotlib.figure.Figure at 0x1176825c0>"
      ]
     },
     "metadata": {},
     "output_type": "display_data"
    }
   ],
   "source": [
    "df.groupby('Cat')['Size'].count().plot(kind='bar')"
   ]
  },
  {
   "cell_type": "code",
   "execution_count": 89,
   "metadata": {},
   "outputs": [],
   "source": [
    "import numpy as np\n",
    "cs = np.log(df['Size'])\n",
    "# we don't need file name anymore\n",
    "cs = cs.reset_index()"
   ]
  },
  {
   "cell_type": "code",
   "execution_count": 90,
   "metadata": {},
   "outputs": [
    {
     "data": {
      "text/html": [
       "<div>\n",
       "<style>\n",
       "    .dataframe thead tr:only-child th {\n",
       "        text-align: right;\n",
       "    }\n",
       "\n",
       "    .dataframe thead th {\n",
       "        text-align: left;\n",
       "    }\n",
       "\n",
       "    .dataframe tbody tr th {\n",
       "        vertical-align: top;\n",
       "    }\n",
       "</style>\n",
       "<table border=\"1\" class=\"dataframe\">\n",
       "  <thead>\n",
       "    <tr style=\"text-align: right;\">\n",
       "      <th></th>\n",
       "      <th>Size</th>\n",
       "    </tr>\n",
       "  </thead>\n",
       "  <tbody>\n",
       "    <tr>\n",
       "      <th>count</th>\n",
       "      <td>2938.000000</td>\n",
       "    </tr>\n",
       "    <tr>\n",
       "      <th>mean</th>\n",
       "      <td>12.397898</td>\n",
       "    </tr>\n",
       "    <tr>\n",
       "      <th>std</th>\n",
       "      <td>3.659881</td>\n",
       "    </tr>\n",
       "    <tr>\n",
       "      <th>min</th>\n",
       "      <td>1.386294</td>\n",
       "    </tr>\n",
       "    <tr>\n",
       "      <th>25%</th>\n",
       "      <td>9.306378</td>\n",
       "    </tr>\n",
       "    <tr>\n",
       "      <th>50%</th>\n",
       "      <td>13.862944</td>\n",
       "    </tr>\n",
       "    <tr>\n",
       "      <th>75%</th>\n",
       "      <td>14.167367</td>\n",
       "    </tr>\n",
       "    <tr>\n",
       "      <th>max</th>\n",
       "      <td>21.174963</td>\n",
       "    </tr>\n",
       "  </tbody>\n",
       "</table>\n",
       "</div>"
      ],
      "text/plain": [
       "              Size\n",
       "count  2938.000000\n",
       "mean     12.397898\n",
       "std       3.659881\n",
       "min       1.386294\n",
       "25%       9.306378\n",
       "50%      13.862944\n",
       "75%      14.167367\n",
       "max      21.174963"
      ]
     },
     "execution_count": 90,
     "metadata": {},
     "output_type": "execute_result"
    }
   ],
   "source": [
    "cs.describe()"
   ]
  },
  {
   "cell_type": "code",
   "execution_count": 91,
   "metadata": {},
   "outputs": [
    {
     "data": {
      "text/plain": [
       "array([[<matplotlib.axes._subplots.AxesSubplot object at 0x11f9611d0>]], dtype=object)"
      ]
     },
     "execution_count": 91,
     "metadata": {},
     "output_type": "execute_result"
    },
    {
     "data": {
      "image/png": "[encoded data removed]",
      "text/plain": [
       "<matplotlib.figure.Figure at 0x11e620a58>"
      ]
     },
     "metadata": {},
     "output_type": "display_data"
    }
   ],
   "source": [
    "cs.hist(cumulative=True, normed=100, bins=100, histtype='step')"
   ]
  },
  {
   "cell_type": "code",
   "execution_count": 104,
   "metadata": {},
   "outputs": [
    {
     "name": "stdout",
     "output_type": "stream",
     "text": [
      "Setting mark for size at 37.98 MB will still give us 93.53 % of data objects\n"
     ]
    }
   ],
   "source": [
    "# if we take all up to val we will end up with more than 90%\n",
    "val=17.5\n",
    "size = np.exp(val)/(1024*1024)\n",
    "\n",
    "percentage = 100*df.loc[df.Size < np.exp(val)].Size.count()/len(df)\n",
    "print('Setting mark for size at {0:.2f} MB will still give us {1:.2f} % of data objects'.format(size, percentage))"
   ]
  },
  {
   "cell_type": "markdown",
   "metadata": {},
   "source": [
    "# Service usage analysis"
   ]
  },
  {
   "cell_type": "code",
   "execution_count": 185,
   "metadata": {},
   "outputs": [
    {
     "name": "stdout",
     "output_type": "stream",
     "text": [
      "<class 'pandas.core.frame.DataFrame'>\n",
      "DatetimeIndex: 2938 entries, 2017-10-22 16:50:22.413666 to 2016-12-22 09:51:05.052595\n",
      "Data columns (total 3 columns):\n",
      "Size        2938 non-null int64\n",
      "Mimetype    2938 non-null object\n",
      "Cat         2938 non-null category\n",
      "dtypes: category(1), int64(1), object(1)\n",
      "memory usage: 71.9+ KB\n"
     ]
    }
   ],
   "source": [
    "import matplotlib.pyplot as plt\n",
    "import matplotlib.dates as mdates\n",
    "from matplotlib.ticker import ScalarFormatter, FormatStrFormatter\n",
    "\n",
    "monthly = df.set_index('Created')\n",
    "\n",
    "monthly.info()"
   ]
  },
  {
   "cell_type": "code",
   "execution_count": 207,
   "metadata": {},
   "outputs": [],
   "source": [
    "obs = monthly.resample('M')['Size'].sum()\n",
    "cts = monthly.resample('M')['Size'].count()"
   ]
  },
  {
   "cell_type": "code",
   "execution_count": 218,
   "metadata": {},
   "outputs": [
    {
     "data": {
      "image/png": "[encoded data removed]",
      "text/plain": [
       "<matplotlib.figure.Figure at 0x1226bb320>"
      ]
     },
     "metadata": {},
     "output_type": "display_data"
    }
   ],
   "source": [
    "# skip the \"migration\" peak in the first month\n",
    "res2 = obs.iloc[1:]\n",
    "res = cts.iloc[1:]\n",
    "\n",
    "fig, ax = plt.subplots(figsize=(10, 6))\n",
    "\n",
    "ax.bar(res.index, res, width=25)\n",
    "ax.xaxis.set_major_formatter(mdates.DateFormatter('%Y-%m'))\n",
    "ax2.set_ylabel('Number of objects')\n",
    "\n",
    "\n",
    "ax2 = ax.twinx()\n",
    "ax2.plot(res2.index, res2/1000000, color='r', lw=3)\n",
    "ax2.tick_params('y', colors='r')\n",
    "ax2.set_ylabel('Size [MB]', color='r')\n",
    "ax2.yaxis.set_major_formatter(FormatStrFormatter('%.0f'))\n",
    "\n",
    "fig.tight_layout()\n",
    "fig.suptitle('Monthly service usage', fontsize=16)\n",
    "fig.subplots_adjust(top=0.88)\n"
   ]
  }
 ],
 "metadata": {
  "kernelspec": {
   "display_name": "Python 3",
   "language": "python",
   "name": "python3"
  },
  "language_info": {
   "codemirror_mode": {
    "name": "ipython",
    "version": 3
   },
   "file_extension": ".py",
   "mimetype": "text/x-python",
   "name": "python",
   "nbconvert_exporter": "python",
   "pygments_lexer": "ipython3",
   "version": "3.6.2"
  }
 },
 "nbformat": 4,
 "nbformat_minor": 2
}
